{
 "cells": [
  {
   "cell_type": "code",
   "execution_count": null,
   "id": "ebb44271",
   "metadata": {},
   "outputs": [],
   "source": [
    "def add(x,y)\n",
    "    SUM = x+y\n",
    "    print(f\"{x} + {y} = {SUM}\")\n",
    "def subtract(x,y):\n",
    "    subtract = x-y\n",
    "    print(f\"{x} - {y} = {subtract}\")\n",
    "def multiplication(x,y):\n",
    "    multiplication = x*y\n",
    "    print(f\"{x} X {y} = {multiplication}\")\n",
    "def divide(x,y):\n",
    "    divide = x/y\n",
    "    print(f\"{x} / {y} = {divide}\")\n",
    "def even_odd(x):\n",
    "    if x%2 == 0:\n",
    "        print(f\"{x} is even\")\n",
    "    else:\n",
    "        print(f\"{x} is odd\")\n",
    "        \n",
    "        \n",
    "print(\"welcome to amit calculator\")\n",
    "while True:\n",
    "    \n",
    "\n",
    "    "
   ]
  }
 ],
 "metadata": {
  "kernelspec": {
   "display_name": "Python 3 (ipykernel)",
   "language": "python",
   "name": "python3"
  },
  "language_info": {
   "codemirror_mode": {
    "name": "ipython",
    "version": 3
   },
   "file_extension": ".py",
   "mimetype": "text/x-python",
   "name": "python",
   "nbconvert_exporter": "python",
   "pygments_lexer": "ipython3",
   "version": "3.10.9"
  }
 },
 "nbformat": 4,
 "nbformat_minor": 5
}
